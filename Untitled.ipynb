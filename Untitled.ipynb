{
 "cells": [
  {
   "cell_type": "code",
   "execution_count": 1,
   "id": "9d22a82d",
   "metadata": {},
   "outputs": [],
   "source": [
    "import pandas as pd\n",
    "\n",
    "#fileName = 'departments.csv'\n",
    "fileName = 'hired_employees.csv'\n",
    "#fileName = 'jobs.csv'\n",
    "\n",
    "ruta = f\"../../{fileName}\"\n",
    "\n",
    "df = pd.read_csv(f\"../../{fileName}\", header=None)"
   ]
  },
  {
   "cell_type": "code",
   "execution_count": 2,
   "id": "c70f46ac",
   "metadata": {},
   "outputs": [
    {
     "name": "stdout",
     "output_type": "stream",
     "text": [
      "correcto\n"
     ]
    }
   ],
   "source": [
    "\n",
    "if (fileName not in {'jobs.csv','hired_employees.csv','departments.csv' }):\n",
    "    print('incorrecto')\n",
    "else:\n",
    "    print('correcto')\n"
   ]
  },
  {
   "cell_type": "code",
   "execution_count": 3,
   "id": "feef92f9",
   "metadata": {},
   "outputs": [],
   "source": [
    "if (fileName =='jobs.csv'):\n",
    "    df.columns = ['id', 'job']\n",
    "if (fileName =='departments.csv'):\n",
    "    df.columns = ['id', 'department']\n",
    "if (fileName =='hired_employees.csv'):\n",
    "    df.columns = ['id', 'name','datetime','department_id','job_id']\n"
   ]
  },
  {
   "cell_type": "code",
   "execution_count": 4,
   "id": "4dab12c7",
   "metadata": {},
   "outputs": [
    {
     "name": "stdout",
     "output_type": "stream",
     "text": [
      "hired_employees\n"
     ]
    }
   ],
   "source": [
    "targetTable = fileName.replace(\".csv\",\"\")\n",
    "print(targetTable)"
   ]
  },
  {
   "cell_type": "code",
   "execution_count": 6,
   "id": "717eb44f",
   "metadata": {},
   "outputs": [
    {
     "name": "stdout",
     "output_type": "stream",
     "text": [
      "Tabla creada exitosamente\n",
      "Datos insertados exitosamente\n"
     ]
    }
   ],
   "source": [
    "from utils.sqlConnection import insert_to_sql, create_to_sql\n",
    "create_to_sql(df, targetTable)\n",
    "insert_to_sql(df, targetTable)"
   ]
  },
  {
   "cell_type": "code",
   "execution_count": 5,
   "id": "eb074c2a",
   "metadata": {},
   "outputs": [
    {
     "name": "stdout",
     "output_type": "stream",
     "text": [
      "   id            name              datetime  department_id  job_id\n",
      "0   1     Harold Vogt  2021-11-07T02:48:42Z            2.0    96.0\n",
      "1   2        Ty Hofer  2021-05-30T05:43:46Z            8.0     NaN\n",
      "2   3     Lyman Hadye  2021-09-01T23:27:38Z            5.0    52.0\n",
      "3   4   Lotti Crowthe  2021-10-01T13:04:21Z           12.0    71.0\n",
      "4   5  Gretna Lording  2021-10-10T22:22:17Z            6.0    80.0\n"
     ]
    }
   ],
   "source": [
    "print(df.head())"
   ]
  },
  {
   "cell_type": "code",
   "execution_count": 11,
   "id": "9fe267ac",
   "metadata": {},
   "outputs": [],
   "source": [
    "# %run ./utils/sqlConnection.py\n"
   ]
  },
  {
   "cell_type": "code",
   "execution_count": null,
   "id": "294d32d7",
   "metadata": {},
   "outputs": [],
   "source": [
    "# write_dataframe_to_sql(df,targetTable)"
   ]
  }
 ],
 "metadata": {
  "kernelspec": {
   "display_name": "Python 3",
   "language": "python",
   "name": "python3"
  },
  "language_info": {
   "codemirror_mode": {
    "name": "ipython",
    "version": 3
   },
   "file_extension": ".py",
   "mimetype": "text/x-python",
   "name": "python",
   "nbconvert_exporter": "python",
   "pygments_lexer": "ipython3",
   "version": "3.11.4"
  }
 },
 "nbformat": 4,
 "nbformat_minor": 5
}
